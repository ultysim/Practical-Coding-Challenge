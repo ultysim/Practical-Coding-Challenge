{
 "cells": [
  {
   "cell_type": "code",
   "execution_count": 1,
   "metadata": {},
   "outputs": [],
   "source": [
    "import numpy as np"
   ]
  },
  {
   "cell_type": "code",
   "execution_count": 300,
   "metadata": {},
   "outputs": [],
   "source": [
    "class FCLayer():\n",
    "    def __init__(self, input_size, output_size, lr=0.001):\n",
    "        # Initialize weights with Xavier\n",
    "        self.lr = lr\n",
    "        init_bound = np.sqrt(6)/(np.sqrt(input_size+output_size))\n",
    "        self.weights = np.random.uniform(-1.0,1.0,size=(input_size,output_size))*init_bound\n",
    "        \n",
    "        self.bias = np.zeros(output_size)\n",
    "        \n",
    "    def forward(self, x):\n",
    "        self.x = x\n",
    "        return np.matmul(x, self.weights) + self.bias\n",
    "    \n",
    "    def backward(self,grad):\n",
    "        # we have dl/dz coming in, need dl/dw = dl/dz*dz/dw\n",
    "        \n",
    "        # Can be shown: dL/dx = dL/dz W^T and dL/dw = X^T dL/dz\n",
    "        dldx = grad.dot(self.weights.T)\n",
    "        dldw = self.x.T.dot(grad)\n",
    "        \n",
    "        self.weights = self.weights - self.lr*dldw\n",
    "        self.bias = self.bias - self.lr*np.sum(grad, axis = 0)\n",
    "        \n",
    "        return dldx\n",
    "\n",
    "    \n",
    "# Don't actually need this, better to compute the sigmoid as part of the BCE loss so that we can skip the back prop\n",
    "class Sigmoid():\n",
    "    def __init__(self):\n",
    "        pass\n",
    "    \n",
    "    def forward(self,x):\n",
    "        self.sigma = 1/(1+np.exp(x))\n",
    "        return self.sigma\n",
    "    \n",
    "    def backward(self,grad):\n",
    "        return grad.dot(self.sigma(1.0 - self.sigma))\n",
    "    \n",
    "    \n",
    "class ReLu():\n",
    "    def __init__(self):\n",
    "        pass\n",
    "    \n",
    "    def forward(self, x):\n",
    "        self.x = x\n",
    "        return np.maximum(0,x)\n",
    "    \n",
    "    def backward(self, grad):\n",
    "        relu_grad = self.x>0\n",
    "        return grad*relu_grad\n",
    "\n",
    "    \n",
    "    \n",
    "    \n",
    "class Cross_Entropy_With_Logits():\n",
    "    def __init__(self):\n",
    "        pass\n",
    "    \n",
    "    def forward(self, logits, classes):\n",
    "        '''\n",
    "        Classes here are the class labels, not one hot encoded\n",
    "        Logit takes the form [num_batches, num_classes]\n",
    "        '''\n",
    "        # For numerical stability\n",
    "        logits -= np.max(logits, axis = 1, keepdims=True)\n",
    "        \n",
    "        self.logits = logits\n",
    "        self.classes = classes\n",
    "        \n",
    "        # Get the correct activation:\n",
    "        logit_correct = logits[range(len(logits)),classes]\n",
    "        \n",
    "        # Cross entropy is defined as \\sum{i}{N}y_i*log(p_i)\n",
    "        # if we write log(p_i) = log(exp(a_correct)/sum{i}{N}exp(a_i))\n",
    "        # H = -exp(a_correct) + log(sum(exp(a)))\n",
    "        \n",
    "        return (-logit_correct + np.log(np.sum(np.exp(logits),axis=-1)))/self.logits.shape[0]\n",
    "    \n",
    "    def backward(self):\n",
    "        # The backprop is p_i - y_i, where y_i is one hot encoded\n",
    "        \n",
    "        # Encode the class\n",
    "        class_ones = np.zeros_like(self.logits)\n",
    "        class_ones[range(len(self.logits)),self.classes] = 1\n",
    "        \n",
    "        prob = np.exp(self.logits) / np.exp(self.logits).sum(axis=-1,keepdims=True)\n",
    "        \n",
    "        # Don't be stupid, normalize the loss over batches\n",
    "        return (prob - class_ones)/self.logits.shape[0]"
   ]
  },
  {
   "cell_type": "code",
   "execution_count": 274,
   "metadata": {},
   "outputs": [],
   "source": [
    "dense1 = FCLayer(10,100)"
   ]
  },
  {
   "cell_type": "code",
   "execution_count": 239,
   "metadata": {},
   "outputs": [
    {
     "data": {
      "text/plain": [
       "(100, 100)"
      ]
     },
     "execution_count": 239,
     "metadata": {},
     "output_type": "execute_result"
    }
   ],
   "source": [
    "z = dense1.forward(b)\n",
    "z.shape"
   ]
  },
  {
   "cell_type": "code",
   "execution_count": 143,
   "metadata": {},
   "outputs": [
    {
     "data": {
      "text/plain": [
       "(100, 100)"
      ]
     },
     "execution_count": 143,
     "metadata": {},
     "output_type": "execute_result"
    }
   ],
   "source": [
    "activation1 = ReLu()\n",
    "a = activation1.forward(z)\n",
    "a.shape"
   ]
  },
  {
   "cell_type": "code",
   "execution_count": 144,
   "metadata": {},
   "outputs": [],
   "source": [
    "CE = Cross_Entropy_With_Logits()"
   ]
  },
  {
   "cell_type": "code",
   "execution_count": 145,
   "metadata": {},
   "outputs": [],
   "source": [
    "y = np.random.randint(0,99,size = (100,100))"
   ]
  },
  {
   "cell_type": "code",
   "execution_count": 146,
   "metadata": {},
   "outputs": [],
   "source": [
    "loss = CE.forward(a, y)"
   ]
  },
  {
   "cell_type": "code",
   "execution_count": 147,
   "metadata": {},
   "outputs": [],
   "source": [
    "g = CE.backward()"
   ]
  },
  {
   "cell_type": "code",
   "execution_count": 148,
   "metadata": {},
   "outputs": [],
   "source": [
    "relu_g = activation1.backward(g)"
   ]
  },
  {
   "cell_type": "code",
   "execution_count": 149,
   "metadata": {},
   "outputs": [
    {
     "data": {
      "text/plain": [
       "(100, 100)"
      ]
     },
     "execution_count": 149,
     "metadata": {},
     "output_type": "execute_result"
    }
   ],
   "source": [
    "relu_g.shape"
   ]
  },
  {
   "cell_type": "code",
   "execution_count": 150,
   "metadata": {},
   "outputs": [],
   "source": [
    "dense_g = dense1.backward(relu_g)"
   ]
  },
  {
   "cell_type": "code",
   "execution_count": 155,
   "metadata": {},
   "outputs": [],
   "source": [
    "import keras\n",
    "import matplotlib.pyplot as plt"
   ]
  },
  {
   "cell_type": "code",
   "execution_count": 156,
   "metadata": {},
   "outputs": [],
   "source": [
    "def load_dataset(flatten=True):\n",
    "    (X_train, y_train), (X_test, y_test) = keras.datasets.mnist.load_data()\n",
    "\n",
    "    # normalize x\n",
    "    X_train = X_train.astype(float) / 255.\n",
    "    X_test = X_test.astype(float) / 255.\n",
    "\n",
    "    # we reserve the last 10000 training examples for validation\n",
    "    X_train, X_val = X_train[:-10000], X_train[-10000:]\n",
    "    y_train, y_val = y_train[:-10000], y_train[-10000:]\n",
    "\n",
    "    if flatten:\n",
    "        X_train = X_train.reshape([X_train.shape[0], -1])\n",
    "        X_val = X_val.reshape([X_val.shape[0], -1])\n",
    "        X_test = X_test.reshape([X_test.shape[0], -1])\n",
    "\n",
    "    return X_train, y_train, X_val, y_val, X_test, y_test\n",
    "  \n",
    "X_train, y_train, X_val, y_val, X_test, y_test = load_dataset()"
   ]
  },
  {
   "cell_type": "code",
   "execution_count": 167,
   "metadata": {},
   "outputs": [],
   "source": [
    "def softmax(x):\n",
    "    prob = np.exp(x) / np.exp(x).sum(axis=-1,keepdims=True)\n",
    "    return prob"
   ]
  },
  {
   "cell_type": "code",
   "execution_count": 212,
   "metadata": {},
   "outputs": [],
   "source": [
    "def forward(network, x):\n",
    "    X = x\n",
    "    for i in network:\n",
    "        X = i.forward(X)\n",
    "    return X"
   ]
  },
  {
   "cell_type": "code",
   "execution_count": 213,
   "metadata": {},
   "outputs": [],
   "source": [
    "def backward(network, logits, y):\n",
    "    CE = Cross_Entropy_With_Logits()\n",
    "    loss = CE.forward(logits, y)\n",
    "    loss_grad = CE.backward()\n",
    "    \n",
    "    for i in network[::-1]:\n",
    "        loss_grad = i.backward(loss_grad)\n",
    "    \n",
    "    return np.mean(loss)"
   ]
  },
  {
   "cell_type": "code",
   "execution_count": 214,
   "metadata": {},
   "outputs": [],
   "source": [
    "def train(network, x, y):\n",
    "    logits = forward(network, x)\n",
    "    loss = backward(network, logits, y)\n",
    "    \n",
    "    train_acc = np.mean(logits.argmax(axis=-1)==y)\n",
    "    \n",
    "    return loss, train_acc"
   ]
  },
  {
   "cell_type": "code",
   "execution_count": 215,
   "metadata": {},
   "outputs": [],
   "source": [
    "def predict(network,x):\n",
    "    logits = forward(network,x)\n",
    "    return logits.argmax(axis=-1)"
   ]
  },
  {
   "cell_type": "code",
   "execution_count": 262,
   "metadata": {},
   "outputs": [],
   "source": [
    "def minibatch(x, y, batchsize, shuffle=True):\n",
    "    if shuffle:\n",
    "        indices = np.random.permutation(len(x))\n",
    "    for start_idx in range(0, len(x) - batchsize + 1, batchsize):\n",
    "        if shuffle:\n",
    "            excerpt = indices[start_idx:start_idx + batchsize]\n",
    "        else:\n",
    "            excerpt = slice(start_idx, start_idx + batchsize)\n",
    "        yield x[excerpt], y[excerpt]"
   ]
  },
  {
   "cell_type": "code",
   "execution_count": 297,
   "metadata": {},
   "outputs": [],
   "source": [
    "# Make network\n",
    "lr = 0.01\n",
    "network = []\n",
    "network.append(FCLayer(X_train[0].shape[0], 100,lr=lr))\n",
    "network.append(ReLu())\n",
    "network.append(FCLayer(100, 200, lr=lr))\n",
    "network.append(ReLu())\n",
    "network.append(FCLayer(200, 10, lr=lr)) # outputs logits"
   ]
  },
  {
   "cell_type": "code",
   "execution_count": 291,
   "metadata": {},
   "outputs": [],
   "source": [
    "# training loop\n",
    "train_loss = []\n",
    "train_acc = []\n",
    "val_acc = []\n",
    "\n",
    "for epoch in range(25):\n",
    "    loss, acc = train(network, X_train, y_train)\n",
    "    train_loss.append(loss)\n",
    "    train_acc.append(acc)\n",
    "    \n",
    "    val_acc.append(np.mean(predict(network, X_val)==y_val))\n",
    "    \n",
    "    "
   ]
  },
  {
   "cell_type": "code",
   "execution_count": 292,
   "metadata": {},
   "outputs": [
    {
     "data": {
      "text/plain": [
       "[2.308701753690995,\n",
       " 2.2467176676790723,\n",
       " 2.1942440531203173,\n",
       " 2.145856874375494,\n",
       " 2.099078196739294,\n",
       " 2.0524869176623683,\n",
       " 2.0053347944696727,\n",
       " 1.9572191938362085,\n",
       " 1.9079884324638303,\n",
       " 1.8576441713954595,\n",
       " 1.8062449291292975,\n",
       " 1.753921561228633,\n",
       " 1.7007838978754546,\n",
       " 1.647055783184673,\n",
       " 1.5929655831755303,\n",
       " 1.538819051107034,\n",
       " 1.484947747466322,\n",
       " 1.4317504712046287,\n",
       " 1.3796046445159926,\n",
       " 1.3288652410970727,\n",
       " 1.279838780643565,\n",
       " 1.2328005582974886,\n",
       " 1.1879387659779943,\n",
       " 1.145386060927559,\n",
       " 1.1052017646678265]"
      ]
     },
     "execution_count": 292,
     "metadata": {},
     "output_type": "execute_result"
    }
   ],
   "source": [
    "train_loss"
   ]
  },
  {
   "cell_type": "code",
   "execution_count": 293,
   "metadata": {},
   "outputs": [
    {
     "data": {
      "text/plain": [
       "[0.1368,\n",
       " 0.2015,\n",
       " 0.27414,\n",
       " 0.34362,\n",
       " 0.409,\n",
       " 0.46446,\n",
       " 0.51232,\n",
       " 0.55198,\n",
       " 0.5847,\n",
       " 0.61096,\n",
       " 0.63482,\n",
       " 0.65338,\n",
       " 0.66932,\n",
       " 0.68316,\n",
       " 0.69606,\n",
       " 0.70616,\n",
       " 0.71518,\n",
       " 0.72416,\n",
       " 0.73154,\n",
       " 0.73864,\n",
       " 0.74544,\n",
       " 0.75224,\n",
       " 0.7585,\n",
       " 0.7644,\n",
       " 0.77006]"
      ]
     },
     "execution_count": 293,
     "metadata": {},
     "output_type": "execute_result"
    }
   ],
   "source": [
    "train_acc"
   ]
  },
  {
   "cell_type": "code",
   "execution_count": 294,
   "metadata": {},
   "outputs": [
    {
     "data": {
      "text/plain": [
       "[0.2039,\n",
       " 0.2774,\n",
       " 0.349,\n",
       " 0.4143,\n",
       " 0.4719,\n",
       " 0.5235,\n",
       " 0.5663,\n",
       " 0.6019,\n",
       " 0.6313,\n",
       " 0.654,\n",
       " 0.6729,\n",
       " 0.688,\n",
       " 0.7037,\n",
       " 0.7188,\n",
       " 0.7298,\n",
       " 0.7415,\n",
       " 0.7496,\n",
       " 0.7571,\n",
       " 0.7644,\n",
       " 0.7716,\n",
       " 0.7792,\n",
       " 0.7855,\n",
       " 0.792,\n",
       " 0.7966,\n",
       " 0.8021]"
      ]
     },
     "execution_count": 294,
     "metadata": {},
     "output_type": "execute_result"
    }
   ],
   "source": [
    "val_acc"
   ]
  },
  {
   "cell_type": "code",
   "execution_count": 298,
   "metadata": {},
   "outputs": [],
   "source": [
    "# training loop\n",
    "train_loss = []\n",
    "train_acc = []\n",
    "val_acc = []\n",
    "\n",
    "for epoch in range(35):\n",
    "    loss_temp = []\n",
    "    acc_temp = []\n",
    "    for x, y in minibatch(X_train, y_train, 32):\n",
    "        loss, acc = train(network, x, y)\n",
    "        loss_temp.append(loss)\n",
    "        acc_temp.append(acc)\n",
    "    train_loss.append(np.mean(loss_temp))\n",
    "    train_acc.append(np.mean(acc_temp))\n",
    "    \n",
    "    val_acc.append(np.mean(predict(network, X_val)==y_val))\n",
    "    \n",
    "    "
   ]
  },
  {
   "cell_type": "code",
   "execution_count": 299,
   "metadata": {},
   "outputs": [
    {
     "data": {
      "image/png": "[encoded data removed]",
      "text/plain": [
       "<Figure size 432x288 with 1 Axes>"
      ]
     },
     "metadata": {
      "needs_background": "light"
     },
     "output_type": "display_data"
    }
   ],
   "source": [
    "plt.plot(train_acc)\n",
    "plt.plot(val_acc)\n",
    "plt.show()"
   ]
  },
  {
   "cell_type": "code",
   "execution_count": null,
   "metadata": {},
   "outputs": [],
   "source": []
  }
 ],
 "metadata": {
  "kernelspec": {
   "display_name": "Python 3",
   "language": "python",
   "name": "python3"
  },
  "language_info": {
   "codemirror_mode": {
    "name": "ipython",
    "version": 3
   },
   "file_extension": ".py",
   "mimetype": "text/x-python",
   "name": "python",
   "nbconvert_exporter": "python",
   "pygments_lexer": "ipython3",
   "version": "3.7.6"
  }
 },
 "nbformat": 4,
 "nbformat_minor": 4
}
