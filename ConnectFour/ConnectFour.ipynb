{
 "cells": [
  {
   "cell_type": "code",
   "execution_count": 3,
   "metadata": {},
   "outputs": [],
   "source": [
    "class ConnectFour():\n",
    "    # Need to build a board\n",
    "    # Need to put piece\n",
    "    # Need to check if won\n",
    "    # Red will be +1, black -1\n",
    "    # Keep track of which player\n",
    "    def __init__(self):\n",
    "        self.board = [[0]*6 for _ in range(6)]\n",
    "        self.player = 1\n",
    "    \n",
    "    def show_board(self):\n",
    "        \n",
    "        print(self.board)\n",
    "    \n",
    "    def move(self,col):\n",
    "        row = self.drop_piece(col)\n",
    "        if self.check_win(row,col):\n",
    "            return True\n",
    "        self.player *= -1\n",
    "        return False\n",
    "    \n",
    "    def drop_piece(self,n):\n",
    "        # N is column\n",
    "        # Can check later to yell at user for bad placement\n",
    "        index = -1\n",
    "        for i in range(5,-1,-1):\n",
    "            if self.board[i][n] == 0:\n",
    "                self.board[i][n] = int(self.player)\n",
    "                index = i\n",
    "                break\n",
    "        return index # returns row\n",
    "    \n",
    "    def check_win(self, row, col):\n",
    "        #check row\n",
    "        row_check = self.find_four(self.board[row])\n",
    "        #check column\n",
    "        colm = [i[col] for i in self.board]\n",
    "        col_check = self.find_four(colm)\n",
    "        # check tl to br diag\n",
    "        start_col = int(col)\n",
    "        start_row = int(row)\n",
    "        while start_col > 0 and start_row > 0:\n",
    "            start_col -= 1\n",
    "            start_row -= 1\n",
    "        tl = []\n",
    "        while start_row < 6 and start_col < 6:\n",
    "            tl.append(self.board[start_row][start_col])\n",
    "            start_row += 1\n",
    "            start_col += 1\n",
    "        tl_check = self.find_four(tl)\n",
    "        # check tr to bl diag\n",
    "        start_col = int(col)\n",
    "        start_row = int(row)\n",
    "        while start_col < 5 and start_row > 0:\n",
    "            start_col += 1\n",
    "            start_row -= 1\n",
    "        tr = []\n",
    "        while start_row < 6 and start_col >= 0:\n",
    "            tr.append(self.board[start_row][start_col])\n",
    "            start_row += 1\n",
    "            start_col -= 1\n",
    "        tr_check = self.find_four(tr)\n",
    "        \n",
    "        return row_check or col_check or tl_check or tr_check\n",
    "        \n",
    "    def find_four(self, data):\n",
    "        sums = 0\n",
    "        last = 0\n",
    "        for i in data:\n",
    "            if last == i:\n",
    "                sums += i\n",
    "            else:\n",
    "                last = i\n",
    "                sums = 1\n",
    "            if abs(sums) == 4:\n",
    "                return True\n",
    "        return False\n",
    "    \n",
    "    def full_board(self):\n",
    "        for i in self.board:\n",
    "            for j in i:\n",
    "                if j == 0:\n",
    "                    return False\n",
    "        else:\n",
    "            return True"
   ]
  },
  {
   "cell_type": "code",
   "execution_count": 4,
   "metadata": {},
   "outputs": [
    {
     "name": "stdout",
     "output_type": "stream",
     "text": [
      "[[0, 0, 0, 0, 0, 0], [0, 0, 0, 0, 0, 0], [0, 0, 0, 0, 0, 0], [0, 0, 0, 0, 0, 0], [0, 0, 0, 0, 0, 0], [0, 0, 0, 0, 0, 0]]\n",
      "Player 1 please input a move, number 0 through 52\n",
      "[[0, 0, 0, 0, 0, 0], [0, 0, 0, 0, 0, 0], [0, 0, 0, 0, 0, 0], [0, 0, 0, 0, 0, 0], [0, 0, 0, 0, 0, 0], [0, 0, 1, 0, 0, 0]]\n",
      "Player 2 please input a move, number 0 through 50\n",
      "[[0, 0, 0, 0, 0, 0], [0, 0, 0, 0, 0, 0], [0, 0, 0, 0, 0, 0], [0, 0, 0, 0, 0, 0], [0, 0, 0, 0, 0, 0], [-1, 0, 1, 0, 0, 0]]\n",
      "Player 1 please input a move, number 0 through 51\n",
      "[[0, 0, 0, 0, 0, 0], [0, 0, 0, 0, 0, 0], [0, 0, 0, 0, 0, 0], [0, 0, 0, 0, 0, 0], [0, 0, 0, 0, 0, 0], [-1, 1, 1, 0, 0, 0]]\n",
      "Player 2 please input a move, number 0 through 50\n",
      "[[0, 0, 0, 0, 0, 0], [0, 0, 0, 0, 0, 0], [0, 0, 0, 0, 0, 0], [0, 0, 0, 0, 0, 0], [-1, 0, 0, 0, 0, 0], [-1, 1, 1, 0, 0, 0]]\n",
      "Player 1 please input a move, number 0 through 53\n",
      "[[0, 0, 0, 0, 0, 0], [0, 0, 0, 0, 0, 0], [0, 0, 0, 0, 0, 0], [0, 0, 0, 0, 0, 0], [-1, 0, 0, 0, 0, 0], [-1, 1, 1, 1, 0, 0]]\n",
      "Player 2 please input a move, number 0 through 50\n",
      "[[0, 0, 0, 0, 0, 0], [0, 0, 0, 0, 0, 0], [0, 0, 0, 0, 0, 0], [-1, 0, 0, 0, 0, 0], [-1, 0, 0, 0, 0, 0], [-1, 1, 1, 1, 0, 0]]\n",
      "Player 1 please input a move, number 0 through 54\n",
      "Player 1 wins the game, enter 0 to play again1\n"
     ]
    }
   ],
   "source": [
    "#Play game\n",
    "while True:\n",
    "    game = ConnectFour()\n",
    "    out = 1\n",
    "    while True:\n",
    "        player = game.player\n",
    "        game.show_board()\n",
    "        if player == 1:\n",
    "            col = int(input('Player 1 please input a move, number 0 through 5'))\n",
    "        else:\n",
    "            col = int(input('Player 2 please input a move, number 0 through 5'))\n",
    "        if game.move(col):\n",
    "            if player == 1:\n",
    "                out = int(input('Player 1 wins the game, enter 0 to play again'))\n",
    "            else:\n",
    "                out = int(input('Player 2 wins the game, enter 0 to play again'))\n",
    "            break\n",
    "        if game.full_board():\n",
    "            print('Full Board, start over')\n",
    "            break\n",
    "\n",
    "    if out != 0:\n",
    "        break"
   ]
  },
  {
   "cell_type": "code",
   "execution_count": null,
   "metadata": {},
   "outputs": [],
   "source": []
  },
  {
   "cell_type": "code",
   "execution_count": null,
   "metadata": {},
   "outputs": [],
   "source": []
  },
  {
   "cell_type": "code",
   "execution_count": null,
   "metadata": {},
   "outputs": [],
   "source": []
  },
  {
   "cell_type": "code",
   "execution_count": 77,
   "metadata": {},
   "outputs": [],
   "source": [
    "a = ConnectFour()#"
   ]
  },
  {
   "cell_type": "code",
   "execution_count": 82,
   "metadata": {},
   "outputs": [
    {
     "data": {
      "text/plain": [
       "4"
      ]
     },
     "execution_count": 82,
     "metadata": {},
     "output_type": "execute_result"
    }
   ],
   "source": [
    "a.drop_piece(3)"
   ]
  },
  {
   "cell_type": "code",
   "execution_count": 83,
   "metadata": {},
   "outputs": [
    {
     "data": {
      "text/plain": [
       "[[0, 0, 0, 0, 0, 0],\n",
       " [0, 0, 0, 0, 0, 0],\n",
       " [0, 0, 0, 0, 0, 0],\n",
       " [0, 0, 0, 0, 0, 0],\n",
       " [0, 0, 0, 1, 0, 0],\n",
       " [0, 0, 0, 1, 0, 0]]"
      ]
     },
     "execution_count": 83,
     "metadata": {},
     "output_type": "execute_result"
    }
   ],
   "source": [
    "a.board"
   ]
  },
  {
   "cell_type": "code",
   "execution_count": 85,
   "metadata": {},
   "outputs": [
    {
     "name": "stdout",
     "output_type": "stream",
     "text": [
      "tl [0, 0, 0, 0, 0, 0]\n",
      "5 5\n",
      "tr [0]\n"
     ]
    },
    {
     "data": {
      "text/plain": [
       "False"
      ]
     },
     "execution_count": 85,
     "metadata": {},
     "output_type": "execute_result"
    }
   ],
   "source": [
    "a.check_win(5,5)"
   ]
  },
  {
   "cell_type": "code",
   "execution_count": 13,
   "metadata": {},
   "outputs": [
    {
     "data": {
      "text/plain": [
       "[[0, 0, 0, 0, 0, 0],\n",
       " [0, 0, 0, 0, 0, 0],\n",
       " [0, 0, 0, 1, 0, 0],\n",
       " [0, 0, 0, 0, 0, 0],\n",
       " [0, 0, 0, 0, 0, 0],\n",
       " [0, 0, 0, 0, 0, 0]]"
      ]
     },
     "execution_count": 13,
     "metadata": {},
     "output_type": "execute_result"
    }
   ],
   "source": [
    "a"
   ]
  },
  {
   "cell_type": "code",
   "execution_count": 14,
   "metadata": {},
   "outputs": [
    {
     "data": {
      "text/plain": [
       "[0, 0, 0, 1, 0, 0]"
      ]
     },
     "execution_count": 14,
     "metadata": {},
     "output_type": "execute_result"
    }
   ],
   "source": [
    "a[2]"
   ]
  },
  {
   "cell_type": "code",
   "execution_count": null,
   "metadata": {},
   "outputs": [],
   "source": []
  }
 ],
 "metadata": {
  "kernelspec": {
   "display_name": "Python 3",
   "language": "python",
   "name": "python3"
  }
 },
 "nbformat": 4,
 "nbformat_minor": 4
}
