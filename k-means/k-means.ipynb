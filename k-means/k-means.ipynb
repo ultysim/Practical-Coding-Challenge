{
 "cells": [
  {
   "cell_type": "code",
   "execution_count": 1,
   "metadata": {},
   "outputs": [],
   "source": [
    "import numpy as np"
   ]
  },
  {
   "cell_type": "code",
   "execution_count": 32,
   "metadata": {},
   "outputs": [],
   "source": [
    "from matplotlib import pyplot as plt"
   ]
  },
  {
   "cell_type": "code",
   "execution_count": 2,
   "metadata": {},
   "outputs": [],
   "source": [
    "from sklearn.datasets import make_blobs"
   ]
  },
  {
   "cell_type": "code",
   "execution_count": 204,
   "metadata": {},
   "outputs": [],
   "source": [
    "X, y = make_blobs(n_samples=30, centers=2, n_features=2)"
   ]
  },
  {
   "cell_type": "code",
   "execution_count": 249,
   "metadata": {},
   "outputs": [],
   "source": [
    "class cluster():\n",
    "    \n",
    "    def __init__(self, loc):\n",
    "        self.loc = loc\n",
    "        self.data = []\n",
    "        \n",
    "    def update_mean(self):\n",
    "        means = []\n",
    "        self.loc = np.mean(self.data,0)\n",
    "        \n",
    "    def calc_distance(self, point):\n",
    "        dist = np.linalg.norm(self.loc-point)\n",
    "        return dist\n",
    "        \n",
    "    def add_data(self,data):\n",
    "        temp = list(self.data)\n",
    "        temp.append(data)\n",
    "        self.data = np.array(temp)\n",
    "\n",
    "    \n",
    "class kmeans():\n",
    "    def __init__(self, n_clusters, data, tol = 0.0001):\n",
    "        self.n_clusters = n_clusters\n",
    "        self.data = data\n",
    "        self.tol = tol\n",
    "        self.clusters = []\n",
    "        \n",
    "        # Seed clusters\n",
    "        cluster_seed = np.random.choice(len(self.data), self.n_clusters, replace=False)\n",
    "        for i in (cluster_seed):\n",
    "            self.clusters.append(cluster(self.data[i]))\n",
    "        \n",
    "    def fit_step(self):\n",
    "        # Clear data from hold:\n",
    "        for i in self.clusters:\n",
    "            i.data = []\n",
    "        mean_hold = []\n",
    "        for i in self.clusters:\n",
    "            mean_hold.append(i.loc)\n",
    "        for i in self.data:\n",
    "            cluster_index = 0\n",
    "            min_distance = float('inf')\n",
    "            for index, j in enumerate(self.clusters):\n",
    "                dist = j.calc_distance(i)\n",
    "                if dist<min_distance:\n",
    "                    min_distance = dist\n",
    "                    cluster_index = index\n",
    "            self.clusters[cluster_index].add_data(i)\n",
    "        \n",
    "        for i in self.clusters:\n",
    "            i.update_mean()\n",
    "        \n",
    "        \n",
    "        for index, i in enumerate(mean_hold):\n",
    "            if np.linalg.norm(i-self.clusters[index].loc) > self.tol:\n",
    "                return False\n",
    "        return True\n",
    "        \n",
    "    \n",
    "    def fit(self, n_steps):\n",
    "        flag = True\n",
    "        for _ in range(n_steps):\n",
    "            if self.fit_step():\n",
    "                print('Tol reached after {} steps, finished fitting'.format(_))\n",
    "                flag = False\n",
    "                break\n",
    "        if flag:\n",
    "            print('N_steps reached, may want to run more')    "
   ]
  },
  {
   "cell_type": "code",
   "execution_count": 260,
   "metadata": {},
   "outputs": [],
   "source": [
    "test = kmeans(2, X)"
   ]
  },
  {
   "cell_type": "code",
   "execution_count": 261,
   "metadata": {},
   "outputs": [
    {
     "data": {
      "image/png": "[encoded data removed]",
      "text/plain": [
       "<Figure size 432x288 with 1 Axes>"
      ]
     },
     "metadata": {
      "needs_background": "light"
     },
     "output_type": "display_data"
    }
   ],
   "source": [
    "plt.scatter(X[:,0],X[:,1])\n",
    "for i in test.clusters:\n",
    "    plt.scatter(i.loc[0],i.loc[1])"
   ]
  },
  {
   "cell_type": "code",
   "execution_count": 262,
   "metadata": {},
   "outputs": [
    {
     "name": "stdout",
     "output_type": "stream",
     "text": [
      "Tol reached after 2 steps, finished fitting\n"
     ]
    }
   ],
   "source": [
    "test.fit(100)"
   ]
  },
  {
   "cell_type": "code",
   "execution_count": 263,
   "metadata": {},
   "outputs": [
    {
     "data": {
      "image/png": "[encoded data removed]",
      "text/plain": [
       "<Figure size 432x288 with 1 Axes>"
      ]
     },
     "metadata": {
      "needs_background": "light"
     },
     "output_type": "display_data"
    }
   ],
   "source": [
    "plt.scatter(X[:,0],X[:,1])\n",
    "for i in test.clusters:\n",
    "    plt.scatter(i.loc[0],i.loc[1])"
   ]
  },
  {
   "cell_type": "code",
   "execution_count": null,
   "metadata": {},
   "outputs": [],
   "source": []
  }
 ],
 "metadata": {
  "kernelspec": {
   "display_name": "Python 3",
   "language": "python",
   "name": "python3"
  },
  "language_info": {
   "codemirror_mode": {
    "name": "ipython",
    "version": 3
   },
   "file_extension": ".py",
   "mimetype": "text/x-python",
   "name": "python",
   "nbconvert_exporter": "python",
   "pygments_lexer": "ipython3",
   "version": "3.7.6"
  }
 },
 "nbformat": 4,
 "nbformat_minor": 4
}
