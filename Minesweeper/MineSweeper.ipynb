{
 "cells": [
  {
   "cell_type": "code",
   "execution_count": 2,
   "metadata": {},
   "outputs": [],
   "source": [
    "import numpy as np\n",
    "import random"
   ]
  },
  {
   "cell_type": "code",
   "execution_count": 101,
   "metadata": {},
   "outputs": [],
   "source": [
    "class MineSweeper():\n",
    "    \n",
    "    def __init__(self, board_length, num_mines):\n",
    "        assert num_mines <= board_length**2, 'More mines than spots on the board'\n",
    "        \n",
    "        # If a user goes to a place, replace 0 with a space, ' '\n",
    "        # Store the numbers in the board state \n",
    "        \n",
    "        self.length = board_length\n",
    "        self.board = np.zeros(shape=(self.length, self.length))\n",
    "        self.board = np.array(self.board, dtype=object)\n",
    "        self.mines_left = num_mines\n",
    "        # locations we've already been to\n",
    "        self.checked = {}\n",
    "        \n",
    "        self.game_over = False\n",
    "        \n",
    "        for _ in range(self.mines_left):\n",
    "            while True:\n",
    "                x = random.randint(0, self.length-1)\n",
    "                y = random.randint(0, self.length-1)\n",
    "                if self.board[x, y] == 0:\n",
    "                    self.board[x, y] = -1\n",
    "                    break\n",
    "    \n",
    "    def print_board(self):\n",
    "        temp = np.array(self.board,dtype=object)\n",
    "        temp[temp == 0] = '?'\n",
    "        temp[temp == -1] = '?'\n",
    "        return temp\n",
    "    \n",
    "    def input_move(self, x, y):\n",
    "        if self.board(x, y) == -1:\n",
    "            self.game_over = True\n",
    "        else:\n",
    "            self.check_for_bombs(x, y) \n",
    "    \n",
    "    def check(self, x, y):\n",
    "        if self.board[x, y] == -1:\n",
    "            return False\n",
    "        if x in self.checked:\n",
    "            if y in self.checked[x]:\n",
    "                return True\n",
    "            self.checked[x].append(y)\n",
    "            return False\n",
    "        else:\n",
    "            self.checked[x] = [y]\n",
    "            return False\n",
    "            \n",
    "        \n",
    "    def check_for_bombs(self, x, y):\n",
    "        # Check locally for bombs, recursively\n",
    "        count = 0\n",
    "        if not self.check(x, y):\n",
    "            if x - 1 >= 0 and y - 1 >= 0:\n",
    "                if self.board[x-1, y-1] == -1:\n",
    "                    count += 1       \n",
    "            if x - 1 >= 0:\n",
    "                if self.board[x-1, y] == -1:\n",
    "                    count += 1        \n",
    "            if x - 1 >= 0 and y + 1 < self.length:\n",
    "                if self.board[x-1, y+1] == -1:\n",
    "                    count += 1       \n",
    "            if y + 1 < self.length:\n",
    "                if self.board[x, y+1] == -1:\n",
    "                    count += 1       \n",
    "            if x + 1 < self.length and y + 1 < self.length:\n",
    "                if self.board[x+1, y+1] == -1:\n",
    "                    count += 1       \n",
    "            if x + 1 < self.length:\n",
    "                if self.board[x+1, y] == -1:\n",
    "                    count += 1       \n",
    "            if x + 1 < self.length and y - 1 >= 0:\n",
    "                if self.board[x+1, y-1] == -1:\n",
    "                    count += 1       \n",
    "            if y - 1 >= 0:\n",
    "                if self.board[x, y-1] == -1:\n",
    "                    count += 1       \n",
    "            if count == 0:\n",
    "                self.board[x, y] = ''\n",
    "                # No bombs here, look around for more\n",
    "                self.propogate_search(x, y)\n",
    "            else:\n",
    "                self.board[x, y] = count\n",
    "                \n",
    "    def propogate_search(self, x, y):\n",
    "        # This triggers when we clicked an square with no bomb near by\n",
    "        # Want to search next spots\n",
    "        if x - 1 >= 0 and y - 1 >= 0:\n",
    "            self.check_for_bombs(x - 1, y - 1)       \n",
    "        if x - 1 >= 0:\n",
    "            self.check_for_bombs(x - 1, y)        \n",
    "        if x - 1 >= 0 and y + 1 < self.length:\n",
    "            self.check_for_bombs(x - 1, y + 1)      \n",
    "        if y + 1 < self.length:\n",
    "            self.check_for_bombs(x, y + 1)     \n",
    "        if x + 1 < self.length and y + 1 < self.length:\n",
    "            self.check_for_bombs(x + 1, y + 1)       \n",
    "        if x + 1 < self.length:\n",
    "            self.check_for_bombs(x + 1, y)       \n",
    "        if x + 1 < self.length and y - 1 >= 0:\n",
    "            self.check_for_bombs(x + 1, y - 1)      \n",
    "        if y - 1 >= 0:\n",
    "            self.check_for_bombs(x, y - 1)"
   ]
  },
  {
   "cell_type": "code",
   "execution_count": 102,
   "metadata": {},
   "outputs": [],
   "source": [
    "game = MineSweeper(5, 2)"
   ]
  },
  {
   "cell_type": "code",
   "execution_count": 103,
   "metadata": {},
   "outputs": [
    {
     "name": "stdout",
     "output_type": "stream",
     "text": [
      "[[0.0 0.0 0.0 0.0 0.0]\n",
      " [0.0 0.0 0.0 0.0 -1]\n",
      " [0.0 0.0 0.0 0.0 0.0]\n",
      " [0.0 0.0 0.0 0.0 0.0]\n",
      " [0.0 0.0 0.0 -1 0.0]]\n"
     ]
    }
   ],
   "source": [
    "print(game.board)"
   ]
  },
  {
   "cell_type": "code",
   "execution_count": 104,
   "metadata": {},
   "outputs": [],
   "source": [
    "game.check_for_bombs(0,0)"
   ]
  },
  {
   "cell_type": "code",
   "execution_count": 105,
   "metadata": {},
   "outputs": [
    {
     "name": "stdout",
     "output_type": "stream",
     "text": [
      "[['' '' '' 1 0.0]\n",
      " ['' '' '' 1 -1]\n",
      " ['' '' '' 1 0.0]\n",
      " ['' '' 1 1 0.0]\n",
      " ['' '' 1 -1 0.0]]\n"
     ]
    }
   ],
   "source": [
    "print(game.board)"
   ]
  },
  {
   "cell_type": "code",
   "execution_count": 106,
   "metadata": {},
   "outputs": [
    {
     "name": "stdout",
     "output_type": "stream",
     "text": [
      "[['' '' '' 1 '?']\n",
      " ['' '' '' 1 '?']\n",
      " ['' '' '' 1 '?']\n",
      " ['' '' 1 1 '?']\n",
      " ['' '' 1 '?' '?']]\n"
     ]
    }
   ],
   "source": [
    "print(game.print_board())"
   ]
  },
  {
   "cell_type": "code",
   "execution_count": 33,
   "metadata": {},
   "outputs": [
    {
     "data": {
      "text/plain": [
       "True"
      ]
     },
     "execution_count": 33,
     "metadata": {},
     "output_type": "execute_result"
    }
   ],
   "source": [
    "0 not in game.checked"
   ]
  },
  {
   "cell_type": "code",
   "execution_count": null,
   "metadata": {},
   "outputs": [],
   "source": [
    "np.zeroes()"
   ]
  }
 ],
 "metadata": {
  "kernelspec": {
   "display_name": "Python 3",
   "language": "python",
   "name": "python3"
  },
  "language_info": {
   "codemirror_mode": {
    "name": "ipython",
    "version": 3
   },
   "file_extension": ".py",
   "mimetype": "text/x-python",
   "name": "python",
   "nbconvert_exporter": "python",
   "pygments_lexer": "ipython3",
   "version": "3.7.6"
  }
 },
 "nbformat": 4,
 "nbformat_minor": 4
}
